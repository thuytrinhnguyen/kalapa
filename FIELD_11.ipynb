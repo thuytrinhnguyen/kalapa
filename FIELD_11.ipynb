{
 "cells": [
  {
   "cell_type": "code",
   "execution_count": 1,
   "metadata": {},
   "outputs": [],
   "source": [
    "import pandas as pd\n",
    "from utils import check_nas, unique_values, values_only_in_set"
   ]
  },
  {
   "cell_type": "markdown",
   "metadata": {},
   "source": [
    "### 1. Load dataset"
   ]
  },
  {
   "cell_type": "code",
   "execution_count": 2,
   "metadata": {},
   "outputs": [],
   "source": [
    "train = pd.read_csv('data/train.csv', index_col=0, low_memory=False)\n",
    "test = pd.read_csv('data/test.csv', index_col=0, low_memory=False)"
   ]
  },
  {
   "cell_type": "markdown",
   "metadata": {},
   "source": [
    "### 2. Check for NAs"
   ]
  },
  {
   "cell_type": "markdown",
   "metadata": {},
   "source": [
    "Check no. missing values for Train"
   ]
  },
  {
   "cell_type": "code",
   "execution_count": 3,
   "metadata": {},
   "outputs": [
    {
     "data": {
      "text/plain": [
       "(9678, 0.3226)"
      ]
     },
     "execution_count": 3,
     "metadata": {},
     "output_type": "execute_result"
    }
   ],
   "source": [
    "check_nas(train,'FIELD_11')"
   ]
  },
  {
   "cell_type": "markdown",
   "metadata": {},
   "source": [
    "Check no. missing value for Test"
   ]
  },
  {
   "cell_type": "code",
   "execution_count": 4,
   "metadata": {},
   "outputs": [
    {
     "data": {
      "text/plain": [
       "(6504, 0.2168)"
      ]
     },
     "execution_count": 4,
     "metadata": {},
     "output_type": "execute_result"
    }
   ],
   "source": [
    "check_nas(test,'FIELD_11')"
   ]
  },
  {
   "cell_type": "markdown",
   "metadata": {},
   "source": [
    "### 3. Check for Unique Values"
   ]
  },
  {
   "cell_type": "markdown",
   "metadata": {},
   "source": [
    "#### Similar Unique values in Train & Test"
   ]
  },
  {
   "cell_type": "code",
   "execution_count": 5,
   "metadata": {},
   "outputs": [
    {
     "data": {
      "text/plain": [
       "{'0',\n",
       " '1',\n",
       " '10',\n",
       " '11',\n",
       " '12',\n",
       " '13',\n",
       " '14',\n",
       " '15',\n",
       " '16',\n",
       " '18',\n",
       " '2',\n",
       " '21',\n",
       " '22',\n",
       " '24',\n",
       " '25',\n",
       " '26',\n",
       " '27',\n",
       " '28',\n",
       " '3',\n",
       " '30',\n",
       " '32',\n",
       " '34',\n",
       " '35',\n",
       " '36',\n",
       " '37',\n",
       " '4',\n",
       " '45',\n",
       " '5',\n",
       " '54',\n",
       " '59',\n",
       " '6',\n",
       " '60',\n",
       " '69',\n",
       " '7',\n",
       " '72',\n",
       " '8',\n",
       " '9',\n",
       " 'None',\n",
       " nan}"
      ]
     },
     "execution_count": 5,
     "metadata": {},
     "output_type": "execute_result"
    }
   ],
   "source": [
    "set(train.FIELD_11.unique()).intersection(set(test.FIELD_11.unique()))"
   ]
  },
  {
   "cell_type": "markdown",
   "metadata": {},
   "source": [
    "#### Unique values in Train"
   ]
  },
  {
   "cell_type": "code",
   "execution_count": 6,
   "metadata": {},
   "outputs": [
    {
     "data": {
      "text/plain": [
       "(12      8499\n",
       " 0       5525\n",
       " 6       2110\n",
       " 3       1578\n",
       " 24       350\n",
       " 4        333\n",
       " 9        237\n",
       " 5        230\n",
       " 8        218\n",
       " 7        204\n",
       " 10       170\n",
       " 2        165\n",
       " 36       150\n",
       " 13       143\n",
       " 1        139\n",
       " 11       132\n",
       " None      34\n",
       " 15        20\n",
       " 60        18\n",
       " 14        12\n",
       " 20         5\n",
       " 25         5\n",
       " 17         5\n",
       " 18         4\n",
       " 26         4\n",
       " 54         4\n",
       " 22         3\n",
       " 16         3\n",
       " 19         2\n",
       " 34         2\n",
       " 28         2\n",
       " 35         2\n",
       " 21         2\n",
       " 45         1\n",
       " 37         1\n",
       " 42         1\n",
       " 70         1\n",
       " 47         1\n",
       " 56         1\n",
       " 27         1\n",
       " 72         1\n",
       " 59         1\n",
       " 30         1\n",
       " 69         1\n",
       " 32         1\n",
       " Name: FIELD_11, dtype: int64, 12      0.418217\n",
       " 0       0.271873\n",
       " 6       0.103828\n",
       " 3       0.077650\n",
       " 24      0.017223\n",
       " 4       0.016386\n",
       " 9       0.011662\n",
       " 5       0.011318\n",
       " 8       0.010727\n",
       " 7       0.010038\n",
       " 10      0.008365\n",
       " 2       0.008119\n",
       " 36      0.007381\n",
       " 13      0.007037\n",
       " 1       0.006840\n",
       " 11      0.006495\n",
       " None    0.001673\n",
       " 15      0.000984\n",
       " 60      0.000886\n",
       " 14      0.000590\n",
       " 20      0.000246\n",
       " 25      0.000246\n",
       " 17      0.000246\n",
       " 18      0.000197\n",
       " 26      0.000197\n",
       " 54      0.000197\n",
       " 22      0.000148\n",
       " 16      0.000148\n",
       " 19      0.000098\n",
       " 34      0.000098\n",
       " 28      0.000098\n",
       " 35      0.000098\n",
       " 21      0.000098\n",
       " 45      0.000049\n",
       " 37      0.000049\n",
       " 42      0.000049\n",
       " 70      0.000049\n",
       " 47      0.000049\n",
       " 56      0.000049\n",
       " 27      0.000049\n",
       " 72      0.000049\n",
       " 59      0.000049\n",
       " 30      0.000049\n",
       " 69      0.000049\n",
       " 32      0.000049\n",
       " Name: FIELD_11, dtype: float64)"
      ]
     },
     "execution_count": 6,
     "metadata": {},
     "output_type": "execute_result"
    }
   ],
   "source": [
    "unique_values(train,'FIELD_11')"
   ]
  },
  {
   "cell_type": "markdown",
   "metadata": {},
   "source": [
    "#### Unique values in Test"
   ]
  },
  {
   "cell_type": "code",
   "execution_count": 11,
   "metadata": {},
   "outputs": [
    {
     "data": {
      "text/plain": [
       "(12      5490\n",
       " 0       3738\n",
       " 6       1376\n",
       " 3       1139\n",
       " 24       212\n",
       " 4        196\n",
       " 9        193\n",
       " 8        145\n",
       " 2        143\n",
       " 7        139\n",
       " 5        130\n",
       " 13       116\n",
       " 10       107\n",
       " 36       106\n",
       " 1         99\n",
       " 11        79\n",
       " None      21\n",
       " 15        14\n",
       " 18         6\n",
       " 60         5\n",
       " 21         4\n",
       " 34         3\n",
       " 16         3\n",
       " 14         2\n",
       " 54         2\n",
       " 23         2\n",
       " 25         2\n",
       " 30         2\n",
       " 31         1\n",
       " 57         1\n",
       " 29         1\n",
       " 69         1\n",
       " 32         1\n",
       " 22         1\n",
       " 48         1\n",
       " 33         1\n",
       " 37         1\n",
       " 68         1\n",
       " 28         1\n",
       " 40         1\n",
       " 27         1\n",
       " 49         1\n",
       " 26         1\n",
       " 45         1\n",
       " 35         1\n",
       " 43         1\n",
       " 55         1\n",
       " 41         1\n",
       " 59         1\n",
       " 72         1\n",
       " Name: FIELD_11, dtype: int64, 12      0.406787\n",
       " 0       0.276971\n",
       " 6       0.101956\n",
       " 3       0.084395\n",
       " 24      0.015708\n",
       " 4       0.014523\n",
       " 9       0.014301\n",
       " 8       0.010744\n",
       " 2       0.010596\n",
       " 7       0.010299\n",
       " 5       0.009632\n",
       " 13      0.008595\n",
       " 10      0.007928\n",
       " 36      0.007854\n",
       " 1       0.007336\n",
       " 11      0.005854\n",
       " None    0.001556\n",
       " 15      0.001037\n",
       " 18      0.000445\n",
       " 60      0.000370\n",
       " 21      0.000296\n",
       " 34      0.000222\n",
       " 16      0.000222\n",
       " 14      0.000148\n",
       " 54      0.000148\n",
       " 23      0.000148\n",
       " 25      0.000148\n",
       " 30      0.000148\n",
       " 31      0.000074\n",
       " 57      0.000074\n",
       " 29      0.000074\n",
       " 69      0.000074\n",
       " 32      0.000074\n",
       " 22      0.000074\n",
       " 48      0.000074\n",
       " 33      0.000074\n",
       " 37      0.000074\n",
       " 68      0.000074\n",
       " 28      0.000074\n",
       " 40      0.000074\n",
       " 27      0.000074\n",
       " 49      0.000074\n",
       " 26      0.000074\n",
       " 45      0.000074\n",
       " 35      0.000074\n",
       " 43      0.000074\n",
       " 55      0.000074\n",
       " 41      0.000074\n",
       " 59      0.000074\n",
       " 72      0.000074\n",
       " Name: FIELD_11, dtype: float64)"
      ]
     },
     "execution_count": 11,
     "metadata": {},
     "output_type": "execute_result"
    }
   ],
   "source": [
    "unique_values(test,'FIELD_11')"
   ]
  },
  {
   "cell_type": "markdown",
   "metadata": {},
   "source": [
    "### 4. Compare Train and Test"
   ]
  },
  {
   "cell_type": "markdown",
   "metadata": {},
   "source": [
    "Compare Unique values only in Train"
   ]
  },
  {
   "cell_type": "code",
   "execution_count": 8,
   "metadata": {},
   "outputs": [
    {
     "data": {
      "text/plain": [
       "({'17', '19', '20', '42', '47', '56', '70'}, 7)"
      ]
     },
     "execution_count": 8,
     "metadata": {},
     "output_type": "execute_result"
    }
   ],
   "source": [
    "values_only_in_set(train, test, 'FIELD_11')"
   ]
  },
  {
   "cell_type": "markdown",
   "metadata": {},
   "source": [
    "Compare Unique values only in Test"
   ]
  },
  {
   "cell_type": "code",
   "execution_count": 9,
   "metadata": {},
   "outputs": [
    {
     "data": {
      "text/plain": [
       "({'23', '29', '31', '33', '40', '41', '43', '48', '49', '55', '57', '68'}, 12)"
      ]
     },
     "execution_count": 9,
     "metadata": {},
     "output_type": "execute_result"
    }
   ],
   "source": [
    "values_only_in_set(test, train, 'FIELD_11')"
   ]
  },
  {
   "cell_type": "code",
   "execution_count": null,
   "metadata": {},
   "outputs": [],
   "source": []
  }
 ],
 "metadata": {
  "kernelspec": {
   "display_name": "Python 3",
   "language": "python",
   "name": "python3"
  },
  "language_info": {
   "codemirror_mode": {
    "name": "ipython",
    "version": 3
   },
   "file_extension": ".py",
   "mimetype": "text/x-python",
   "name": "python",
   "nbconvert_exporter": "python",
   "pygments_lexer": "ipython3",
   "version": "3.7.7"
  }
 },
 "nbformat": 4,
 "nbformat_minor": 4
}
