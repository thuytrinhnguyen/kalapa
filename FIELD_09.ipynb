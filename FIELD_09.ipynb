{
 "cells": [
  {
   "cell_type": "code",
   "execution_count": 1,
   "metadata": {},
   "outputs": [],
   "source": [
    "import pandas as pd\n",
    "from utils import check_nas, unique_values, values_only_in_set"
   ]
  },
  {
   "cell_type": "markdown",
   "metadata": {},
   "source": [
    "### 1. Load dataset"
   ]
  },
  {
   "cell_type": "code",
   "execution_count": 2,
   "metadata": {},
   "outputs": [],
   "source": [
    "train = pd.read_csv('data/train.csv', index_col=0, low_memory=False)\n",
    "test = pd.read_csv('data/test.csv', index_col=0, low_memory=False)"
   ]
  },
  {
   "cell_type": "markdown",
   "metadata": {},
   "source": [
    "### 2. Check for NAs"
   ]
  },
  {
   "cell_type": "markdown",
   "metadata": {},
   "source": [
    "Check no. missing values for Train"
   ]
  },
  {
   "cell_type": "code",
   "execution_count": 3,
   "metadata": {},
   "outputs": [
    {
     "data": {
      "text/plain": [
       "(0, 0.0)"
      ]
     },
     "execution_count": 3,
     "metadata": {},
     "output_type": "execute_result"
    }
   ],
   "source": [
    "check_nas(train,'FIELD_9')"
   ]
  },
  {
   "cell_type": "markdown",
   "metadata": {},
   "source": [
    "Check no. missing value for Test"
   ]
  },
  {
   "cell_type": "code",
   "execution_count": 4,
   "metadata": {},
   "outputs": [
    {
     "data": {
      "text/plain": [
       "(0, 0.0)"
      ]
     },
     "execution_count": 4,
     "metadata": {},
     "output_type": "execute_result"
    }
   ],
   "source": [
    "check_nas(test,'FIELD_9')"
   ]
  },
  {
   "cell_type": "markdown",
   "metadata": {},
   "source": [
    "### 3. Check for Unique Values"
   ]
  },
  {
   "cell_type": "markdown",
   "metadata": {},
   "source": [
    "#### Similar Unique values in Train & Test"
   ]
  },
  {
   "cell_type": "code",
   "execution_count": 5,
   "metadata": {},
   "outputs": [
    {
     "data": {
      "text/plain": [
       "{'75',\n",
       " 'BT',\n",
       " 'CB',\n",
       " 'CC',\n",
       " 'CH',\n",
       " 'CN',\n",
       " 'DK',\n",
       " 'DN',\n",
       " 'DT',\n",
       " 'GB',\n",
       " 'GD',\n",
       " 'HC',\n",
       " 'HD',\n",
       " 'HN',\n",
       " 'HS',\n",
       " 'HT',\n",
       " 'HX',\n",
       " 'KC',\n",
       " 'NN',\n",
       " 'SV',\n",
       " 'TA',\n",
       " 'TC',\n",
       " 'TE',\n",
       " 'TK',\n",
       " 'TN',\n",
       " 'TS',\n",
       " 'XD',\n",
       " 'XK',\n",
       " 'XV',\n",
       " 'na'}"
      ]
     },
     "execution_count": 5,
     "metadata": {},
     "output_type": "execute_result"
    }
   ],
   "source": [
    "set(train.FIELD_9.unique()).intersection(set(test.FIELD_9.unique()))"
   ]
  },
  {
   "cell_type": "markdown",
   "metadata": {},
   "source": [
    "#### Unique values in Train"
   ]
  },
  {
   "cell_type": "code",
   "execution_count": 6,
   "metadata": {},
   "outputs": [
    {
     "data": {
      "text/plain": [
       "(DN    11002\n",
       " na     9678\n",
       " GD     4854\n",
       " TN     1076\n",
       " HC     1028\n",
       " CH      668\n",
       " GB      263\n",
       " DK      232\n",
       " SV      220\n",
       " DT      196\n",
       " CN      147\n",
       " XK       94\n",
       " HN       86\n",
       " XD       83\n",
       " HT       67\n",
       " NN       56\n",
       " TK       42\n",
       " BT       32\n",
       " HS       31\n",
       " HX       26\n",
       " TA       26\n",
       " KC       22\n",
       " HD       18\n",
       " CB       11\n",
       " TS        9\n",
       " 75        8\n",
       " TE        5\n",
       " TC        4\n",
       " XV        4\n",
       " NO        3\n",
       " 80        3\n",
       " XN        2\n",
       " MS        1\n",
       " 86        1\n",
       " 79        1\n",
       " CC        1\n",
       " Name: FIELD_9, dtype: int64, DN    0.366733\n",
       " na    0.322600\n",
       " GD    0.161800\n",
       " TN    0.035867\n",
       " HC    0.034267\n",
       " CH    0.022267\n",
       " GB    0.008767\n",
       " DK    0.007733\n",
       " SV    0.007333\n",
       " DT    0.006533\n",
       " CN    0.004900\n",
       " XK    0.003133\n",
       " HN    0.002867\n",
       " XD    0.002767\n",
       " HT    0.002233\n",
       " NN    0.001867\n",
       " TK    0.001400\n",
       " BT    0.001067\n",
       " HS    0.001033\n",
       " HX    0.000867\n",
       " TA    0.000867\n",
       " KC    0.000733\n",
       " HD    0.000600\n",
       " CB    0.000367\n",
       " TS    0.000300\n",
       " 75    0.000267\n",
       " TE    0.000167\n",
       " TC    0.000133\n",
       " XV    0.000133\n",
       " NO    0.000100\n",
       " 80    0.000100\n",
       " XN    0.000067\n",
       " MS    0.000033\n",
       " 86    0.000033\n",
       " 79    0.000033\n",
       " CC    0.000033\n",
       " Name: FIELD_9, dtype: float64)"
      ]
     },
     "execution_count": 6,
     "metadata": {},
     "output_type": "execute_result"
    }
   ],
   "source": [
    "unique_values(train,'FIELD_9')"
   ]
  },
  {
   "cell_type": "markdown",
   "metadata": {},
   "source": [
    "#### Unique values in Test"
   ]
  },
  {
   "cell_type": "code",
   "execution_count": 7,
   "metadata": {},
   "outputs": [
    {
     "data": {
      "text/plain": [
       "(DN    7367\n",
       " na    6504\n",
       " GD    3107\n",
       " TN     772\n",
       " HC     682\n",
       " CH     384\n",
       " GB     184\n",
       " DK     177\n",
       " SV     146\n",
       " DT     141\n",
       " CN      94\n",
       " HN      64\n",
       " XK      54\n",
       " HT      54\n",
       " XD      49\n",
       " HS      32\n",
       " TK      31\n",
       " NN      30\n",
       " TA      23\n",
       " KC      20\n",
       " HX      18\n",
       " BT      15\n",
       " CB      14\n",
       " TS      10\n",
       " XV       7\n",
       " TE       5\n",
       " HD       5\n",
       " 74       3\n",
       " 75       3\n",
       " TL       2\n",
       " CC       1\n",
       " TC       1\n",
       " CK       1\n",
       " Name: FIELD_9, dtype: int64, DN    0.36835\n",
       " na    0.32520\n",
       " GD    0.15535\n",
       " TN    0.03860\n",
       " HC    0.03410\n",
       " CH    0.01920\n",
       " GB    0.00920\n",
       " DK    0.00885\n",
       " SV    0.00730\n",
       " DT    0.00705\n",
       " CN    0.00470\n",
       " HN    0.00320\n",
       " XK    0.00270\n",
       " HT    0.00270\n",
       " XD    0.00245\n",
       " HS    0.00160\n",
       " TK    0.00155\n",
       " NN    0.00150\n",
       " TA    0.00115\n",
       " KC    0.00100\n",
       " HX    0.00090\n",
       " BT    0.00075\n",
       " CB    0.00070\n",
       " TS    0.00050\n",
       " XV    0.00035\n",
       " TE    0.00025\n",
       " HD    0.00025\n",
       " 74    0.00015\n",
       " 75    0.00015\n",
       " TL    0.00010\n",
       " CC    0.00005\n",
       " TC    0.00005\n",
       " CK    0.00005\n",
       " Name: FIELD_9, dtype: float64)"
      ]
     },
     "execution_count": 7,
     "metadata": {},
     "output_type": "execute_result"
    }
   ],
   "source": [
    "unique_values(test,'FIELD_9')"
   ]
  },
  {
   "cell_type": "markdown",
   "metadata": {},
   "source": [
    "### 4. Compare Train and Test"
   ]
  },
  {
   "cell_type": "markdown",
   "metadata": {},
   "source": [
    "Compare Unique values only in Train"
   ]
  },
  {
   "cell_type": "code",
   "execution_count": 8,
   "metadata": {},
   "outputs": [
    {
     "data": {
      "text/plain": [
       "({'79', '80', '86', 'MS', 'NO', 'XN'}, 6)"
      ]
     },
     "execution_count": 8,
     "metadata": {},
     "output_type": "execute_result"
    }
   ],
   "source": [
    "values_only_in_set(train, test, 'FIELD_9')"
   ]
  },
  {
   "cell_type": "markdown",
   "metadata": {},
   "source": [
    "Compare Unique values only in Test"
   ]
  },
  {
   "cell_type": "code",
   "execution_count": 9,
   "metadata": {},
   "outputs": [
    {
     "data": {
      "text/plain": [
       "({'74', 'CK', 'TL'}, 3)"
      ]
     },
     "execution_count": 9,
     "metadata": {},
     "output_type": "execute_result"
    }
   ],
   "source": [
    "values_only_in_set(test, train, 'FIELD_9')"
   ]
  },
  {
   "cell_type": "code",
   "execution_count": null,
   "metadata": {},
   "outputs": [],
   "source": []
  }
 ],
 "metadata": {
  "kernelspec": {
   "display_name": "Python 3",
   "language": "python",
   "name": "python3"
  },
  "language_info": {
   "codemirror_mode": {
    "name": "ipython",
    "version": 3
   },
   "file_extension": ".py",
   "mimetype": "text/x-python",
   "name": "python",
   "nbconvert_exporter": "python",
   "pygments_lexer": "ipython3",
   "version": "3.7.7"
  }
 },
 "nbformat": 4,
 "nbformat_minor": 4
}
