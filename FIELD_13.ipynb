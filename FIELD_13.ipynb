{
 "cells": [
  {
   "cell_type": "code",
   "execution_count": 1,
   "metadata": {},
   "outputs": [],
   "source": [
    "import pandas as pd\n",
    "from utils import check_nas, unique_values, values_only_in_set"
   ]
  },
  {
   "cell_type": "markdown",
   "metadata": {},
   "source": [
    "### 1. Load dataset"
   ]
  },
  {
   "cell_type": "code",
   "execution_count": 2,
   "metadata": {},
   "outputs": [],
   "source": [
    "train = pd.read_csv('data/train.csv', index_col=0, low_memory=False)\n",
    "test = pd.read_csv('data/test.csv', index_col=0, low_memory=False)"
   ]
  },
  {
   "cell_type": "markdown",
   "metadata": {},
   "source": [
    "### 2. Check for NAs"
   ]
  },
  {
   "cell_type": "markdown",
   "metadata": {},
   "source": [
    "Check no. missing values for Train"
   ]
  },
  {
   "cell_type": "code",
   "execution_count": 3,
   "metadata": {},
   "outputs": [
    {
     "data": {
      "text/plain": [
       "(9700, 0.3233333333333333)"
      ]
     },
     "execution_count": 3,
     "metadata": {},
     "output_type": "execute_result"
    }
   ],
   "source": [
    "check_nas(train,'FIELD_13')"
   ]
  },
  {
   "cell_type": "markdown",
   "metadata": {},
   "source": [
    "Check no. missing value for Test"
   ]
  },
  {
   "cell_type": "code",
   "execution_count": 4,
   "metadata": {},
   "outputs": [
    {
     "data": {
      "text/plain": [
       "(6518, 0.21726666666666666)"
      ]
     },
     "execution_count": 4,
     "metadata": {},
     "output_type": "execute_result"
    }
   ],
   "source": [
    "check_nas(test,'FIELD_13')"
   ]
  },
  {
   "cell_type": "markdown",
   "metadata": {},
   "source": [
    "### 3. Check for Unique Values"
   ]
  },
  {
   "cell_type": "markdown",
   "metadata": {},
   "source": [
    "#### Similar Unique values in Train & Test"
   ]
  },
  {
   "cell_type": "code",
   "execution_count": 10,
   "metadata": {},
   "outputs": [
    {
     "data": {
      "text/plain": [
       "{'0',\n",
       " '4',\n",
       " 'A2',\n",
       " 'A6',\n",
       " 'AA',\n",
       " 'AB',\n",
       " 'AC',\n",
       " 'AD',\n",
       " 'AH',\n",
       " 'AI',\n",
       " 'AL',\n",
       " 'AO',\n",
       " 'AP',\n",
       " 'AQ',\n",
       " 'AR',\n",
       " 'AS',\n",
       " 'B2',\n",
       " 'BA',\n",
       " 'BB',\n",
       " 'BD',\n",
       " 'BE',\n",
       " 'BG',\n",
       " 'BH',\n",
       " 'BI',\n",
       " 'BK',\n",
       " 'BM',\n",
       " 'BN',\n",
       " 'BO',\n",
       " 'BP',\n",
       " 'BQ',\n",
       " 'BT',\n",
       " 'BX',\n",
       " 'CA',\n",
       " 'CB',\n",
       " 'CE',\n",
       " 'CK',\n",
       " 'DA',\n",
       " 'DD',\n",
       " 'DE',\n",
       " 'DG',\n",
       " 'DH',\n",
       " 'DT',\n",
       " 'DZ',\n",
       " 'EA',\n",
       " 'EB',\n",
       " 'ED',\n",
       " 'EF',\n",
       " 'EJ',\n",
       " 'EP',\n",
       " 'F4',\n",
       " 'FA',\n",
       " 'FB',\n",
       " 'FC',\n",
       " 'FD',\n",
       " 'FE',\n",
       " 'FF',\n",
       " 'FG',\n",
       " 'FH',\n",
       " 'FI',\n",
       " 'FJ',\n",
       " 'FK',\n",
       " 'FL',\n",
       " 'FM',\n",
       " 'FO',\n",
       " 'FP',\n",
       " 'FQ',\n",
       " 'FR',\n",
       " 'FX',\n",
       " 'FY',\n",
       " 'H3',\n",
       " 'HA',\n",
       " 'HB',\n",
       " 'HC',\n",
       " 'HD',\n",
       " 'HE',\n",
       " 'HF',\n",
       " 'HG',\n",
       " 'HH',\n",
       " 'HI',\n",
       " 'HJ',\n",
       " 'HK',\n",
       " 'HL',\n",
       " 'HM',\n",
       " 'HN',\n",
       " 'HO',\n",
       " 'HP',\n",
       " 'HQ',\n",
       " 'HR',\n",
       " 'HS',\n",
       " 'HT',\n",
       " 'HU',\n",
       " 'HV',\n",
       " 'HW',\n",
       " 'HX',\n",
       " 'HZ',\n",
       " 'IA',\n",
       " 'KC',\n",
       " 'KT',\n",
       " 'NB',\n",
       " 'NC',\n",
       " 'ND',\n",
       " 'NE',\n",
       " 'NF',\n",
       " 'NG',\n",
       " 'NH',\n",
       " 'NI',\n",
       " 'NJ',\n",
       " 'NK',\n",
       " 'NL',\n",
       " 'NN',\n",
       " 'NO',\n",
       " 'NQ',\n",
       " 'NU',\n",
       " 'NV',\n",
       " 'NX',\n",
       " 'NZ',\n",
       " 'QA',\n",
       " 'QB',\n",
       " 'QC',\n",
       " 'QD',\n",
       " 'QE',\n",
       " 'QF',\n",
       " 'QG',\n",
       " 'QH',\n",
       " 'QI',\n",
       " 'QJ',\n",
       " 'QK',\n",
       " 'QL',\n",
       " 'QM',\n",
       " 'QO',\n",
       " 'QP',\n",
       " 'QW',\n",
       " 'QZ',\n",
       " 'SA',\n",
       " 'SC',\n",
       " 'SD',\n",
       " 'SG',\n",
       " 'SH',\n",
       " 'SJ',\n",
       " 'SK',\n",
       " 'SL',\n",
       " 'SM',\n",
       " 'SO',\n",
       " 'SQ',\n",
       " 'SS',\n",
       " 'ST',\n",
       " 'SU',\n",
       " 'SX',\n",
       " 'SY',\n",
       " 'T1',\n",
       " 'T2',\n",
       " 'T3',\n",
       " 'T5',\n",
       " 'T7',\n",
       " 'T9',\n",
       " 'TA',\n",
       " 'TB',\n",
       " 'TC',\n",
       " 'TD',\n",
       " 'TE',\n",
       " 'TF',\n",
       " 'TG',\n",
       " 'TH',\n",
       " 'TI',\n",
       " 'TJ',\n",
       " 'TK',\n",
       " 'TL',\n",
       " 'TM',\n",
       " 'TN',\n",
       " 'TO',\n",
       " 'TP',\n",
       " 'TQ',\n",
       " 'TR',\n",
       " 'TS',\n",
       " 'TT',\n",
       " 'TU',\n",
       " 'TV',\n",
       " 'TW',\n",
       " 'TX',\n",
       " 'TY',\n",
       " 'TZ',\n",
       " 'YA',\n",
       " 'YN',\n",
       " 'YV',\n",
       " nan}"
      ]
     },
     "execution_count": 10,
     "metadata": {},
     "output_type": "execute_result"
    }
   ],
   "source": [
    "set(train.FIELD_13.unique()).intersection(set(test.FIELD_13.unique()))"
   ]
  },
  {
   "cell_type": "markdown",
   "metadata": {},
   "source": [
    "#### Unique values in Train"
   ]
  },
  {
   "cell_type": "code",
   "execution_count": 6,
   "metadata": {},
   "outputs": [
    {
     "data": {
      "text/plain": [
       "(YN    4976\n",
       " BI    4857\n",
       " TA    1194\n",
       " BO    1071\n",
       " TZ     610\n",
       "       ... \n",
       " CC       1\n",
       " NQ       1\n",
       " DQ       1\n",
       " EP       1\n",
       " EF       1\n",
       " Name: FIELD_13, Length: 227, dtype: int64, YN    0.245123\n",
       " BI    0.239261\n",
       " TA    0.058818\n",
       " BO    0.052759\n",
       " TZ    0.030049\n",
       "         ...   \n",
       " CC    0.000049\n",
       " NQ    0.000049\n",
       " DQ    0.000049\n",
       " EP    0.000049\n",
       " EF    0.000049\n",
       " Name: FIELD_13, Length: 227, dtype: float64)"
      ]
     },
     "execution_count": 6,
     "metadata": {},
     "output_type": "execute_result"
    }
   ],
   "source": [
    "unique_values(train,'FIELD_13')"
   ]
  },
  {
   "cell_type": "markdown",
   "metadata": {},
   "source": [
    "#### Unique values in Test"
   ]
  },
  {
   "cell_type": "code",
   "execution_count": 7,
   "metadata": {},
   "outputs": [
    {
     "data": {
      "text/plain": [
       "(YN    3309\n",
       " BI    3116\n",
       " TA     800\n",
       " BO     771\n",
       " TZ     441\n",
       "       ... \n",
       " IS       1\n",
       " HO       1\n",
       " SJ       1\n",
       " HS       1\n",
       " CK       1\n",
       " Name: FIELD_13, Length: 210, dtype: int64, YN    0.245438\n",
       " BI    0.231123\n",
       " TA    0.059338\n",
       " BO    0.057187\n",
       " TZ    0.032710\n",
       "         ...   \n",
       " IS    0.000074\n",
       " HO    0.000074\n",
       " SJ    0.000074\n",
       " HS    0.000074\n",
       " CK    0.000074\n",
       " Name: FIELD_13, Length: 210, dtype: float64)"
      ]
     },
     "execution_count": 7,
     "metadata": {},
     "output_type": "execute_result"
    }
   ],
   "source": [
    "unique_values(test,'FIELD_13')"
   ]
  },
  {
   "cell_type": "markdown",
   "metadata": {},
   "source": [
    "### 4. Compare Train and Test"
   ]
  },
  {
   "cell_type": "markdown",
   "metadata": {},
   "source": [
    "Compare Unique values only in Train"
   ]
  },
  {
   "cell_type": "code",
   "execution_count": 8,
   "metadata": {},
   "outputs": [
    {
     "data": {
      "text/plain": [
       "({'8',\n",
       "  'AY',\n",
       "  'BU',\n",
       "  'CC',\n",
       "  'CD',\n",
       "  'CH',\n",
       "  'CJ',\n",
       "  'CR',\n",
       "  'CZ',\n",
       "  'DB',\n",
       "  'DC',\n",
       "  'DF',\n",
       "  'DI',\n",
       "  'DQ',\n",
       "  'DW',\n",
       "  'E2',\n",
       "  'EE',\n",
       "  'EG',\n",
       "  'EH',\n",
       "  'EI',\n",
       "  'EL',\n",
       "  'EN',\n",
       "  'F1',\n",
       "  'FN',\n",
       "  'FS',\n",
       "  'FU',\n",
       "  'FV',\n",
       "  'GB',\n",
       "  'H1',\n",
       "  'HY',\n",
       "  'IC',\n",
       "  'NT',\n",
       "  'NW',\n",
       "  'QU',\n",
       "  'QX',\n",
       "  'SE',\n",
       "  'SF',\n",
       "  'SI',\n",
       "  'SN',\n",
       "  'SP',\n",
       "  'SR',\n",
       "  'SV',\n",
       "  'YF'},\n",
       " 43)"
      ]
     },
     "execution_count": 8,
     "metadata": {},
     "output_type": "execute_result"
    }
   ],
   "source": [
    "values_only_in_set(train, test, 'FIELD_13')"
   ]
  },
  {
   "cell_type": "markdown",
   "metadata": {},
   "source": [
    "Compare Unique values only in Test"
   ]
  },
  {
   "cell_type": "code",
   "execution_count": 9,
   "metadata": {},
   "outputs": [
    {
     "data": {
      "text/plain": [
       "({'12',\n",
       "  'A1',\n",
       "  'AE',\n",
       "  'BJ',\n",
       "  'BW',\n",
       "  'CG',\n",
       "  'CL',\n",
       "  'DL',\n",
       "  'DM',\n",
       "  'EK',\n",
       "  'EU',\n",
       "  'FT',\n",
       "  'H2',\n",
       "  'H5',\n",
       "  'H7',\n",
       "  'IS',\n",
       "  'KX',\n",
       "  'N7',\n",
       "  'NM',\n",
       "  'NP',\n",
       "  'NY',\n",
       "  'QQ',\n",
       "  'QS',\n",
       "  'SB',\n",
       "  'SZ',\n",
       "  'ZA'},\n",
       " 26)"
      ]
     },
     "execution_count": 9,
     "metadata": {},
     "output_type": "execute_result"
    }
   ],
   "source": [
    "values_only_in_set(test, train, 'FIELD_13')"
   ]
  },
  {
   "cell_type": "code",
   "execution_count": null,
   "metadata": {},
   "outputs": [],
   "source": []
  }
 ],
 "metadata": {
  "kernelspec": {
   "display_name": "Python 3",
   "language": "python",
   "name": "python3"
  },
  "language_info": {
   "codemirror_mode": {
    "name": "ipython",
    "version": 3
   },
   "file_extension": ".py",
   "mimetype": "text/x-python",
   "name": "python",
   "nbconvert_exporter": "python",
   "pygments_lexer": "ipython3",
   "version": "3.7.7"
  }
 },
 "nbformat": 4,
 "nbformat_minor": 4
}
