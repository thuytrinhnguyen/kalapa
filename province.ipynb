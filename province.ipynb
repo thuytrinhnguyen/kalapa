{
 "cells": [
  {
   "cell_type": "code",
   "execution_count": 1,
   "metadata": {},
   "outputs": [],
   "source": [
    "import pandas as pd\n",
    "from utils import check_nas, unique_values, values_only_in_set"
   ]
  },
  {
   "cell_type": "markdown",
   "metadata": {},
   "source": [
    "### 1. Load dataset"
   ]
  },
  {
   "cell_type": "code",
   "execution_count": 2,
   "metadata": {},
   "outputs": [],
   "source": [
    "train = pd.read_csv('data/train.csv', index_col=0, low_memory=False)\n",
    "test = pd.read_csv('data/test.csv', index_col=0, low_memory=False)"
   ]
  },
  {
   "cell_type": "markdown",
   "metadata": {},
   "source": [
    "### 2. Check for NAs"
   ]
  },
  {
   "cell_type": "markdown",
   "metadata": {},
   "source": [
    "Check no. missing values for Train"
   ]
  },
  {
   "cell_type": "code",
   "execution_count": 3,
   "metadata": {},
   "outputs": [
    {
     "data": {
      "text/plain": [
       "(12818, 0.4272666666666667)"
      ]
     },
     "execution_count": 3,
     "metadata": {},
     "output_type": "execute_result"
    }
   ],
   "source": [
    "check_nas(train,'province')"
   ]
  },
  {
   "cell_type": "markdown",
   "metadata": {},
   "source": [
    "Check no. missing value for Test"
   ]
  },
  {
   "cell_type": "code",
   "execution_count": 4,
   "metadata": {},
   "outputs": [
    {
     "data": {
      "text/plain": [
       "(8724, 0.2908)"
      ]
     },
     "execution_count": 4,
     "metadata": {},
     "output_type": "execute_result"
    }
   ],
   "source": [
    "check_nas(test,'province')"
   ]
  },
  {
   "cell_type": "markdown",
   "metadata": {},
   "source": [
    "### 3. Check for Unique Values"
   ]
  },
  {
   "cell_type": "markdown",
   "metadata": {},
   "source": [
    "#### Unique values in Train"
   ]
  },
  {
   "cell_type": "code",
   "execution_count": 5,
   "metadata": {},
   "outputs": [
    {
     "data": {
      "text/plain": [
       "(Thành phố Hồ Chí Minh    2389\n",
       " Tỉnh Đồng Nai            1033\n",
       " Tỉnh Bình Dương           807\n",
       " Thành phố Hà Nội          667\n",
       " Tỉnh Tiền Giang           641\n",
       "                          ... \n",
       " Tỉnh Kon Tum               34\n",
       " Tỉnh Hà Giang              31\n",
       " Tỉnh Hòa Bình              30\n",
       " Tỉnh Lai Châu              19\n",
       " Tỉnh Vĩnh phúc             17\n",
       " Name: province, Length: 65, dtype: int64, Thành phố Hồ Chí Minh    0.139041\n",
       " Tỉnh Đồng Nai            0.060121\n",
       " Tỉnh Bình Dương          0.046968\n",
       " Thành phố Hà Nội         0.038820\n",
       " Tỉnh Tiền Giang          0.037306\n",
       "                            ...   \n",
       " Tỉnh Kon Tum             0.001979\n",
       " Tỉnh Hà Giang            0.001804\n",
       " Tỉnh Hòa Bình            0.001746\n",
       " Tỉnh Lai Châu            0.001106\n",
       " Tỉnh Vĩnh phúc           0.000989\n",
       " Name: province, Length: 65, dtype: float64)"
      ]
     },
     "execution_count": 5,
     "metadata": {},
     "output_type": "execute_result"
    }
   ],
   "source": [
    "unique_values(train,'province')"
   ]
  },
  {
   "cell_type": "markdown",
   "metadata": {},
   "source": [
    "#### Unique values in Test"
   ]
  },
  {
   "cell_type": "code",
   "execution_count": 9,
   "metadata": {},
   "outputs": [
    {
     "data": {
      "text/plain": [
       "(Thành phố Hồ Chí Minh    1550\n",
       " Tỉnh Đồng Nai             693\n",
       " Tỉnh Bình Dương           575\n",
       " Thành phố Hà Nội          427\n",
       " Tỉnh Tiền Giang           403\n",
       "                          ... \n",
       " Tỉnh Bắc Kạn               26\n",
       " Tỉnh Hà Giang              17\n",
       " Tỉnh Lai Châu              15\n",
       " Tỉnh Vĩnh phúc             13\n",
       " Tỉnh Kon Tum               12\n",
       " Name: province, Length: 65, dtype: int64, Thành phố Hồ Chí Minh    0.137460\n",
       " Tỉnh Đồng Nai            0.061458\n",
       " Tỉnh Bình Dương          0.050993\n",
       " Thành phố Hà Nội         0.037868\n",
       " Tỉnh Tiền Giang          0.035740\n",
       "                            ...   \n",
       " Tỉnh Bắc Kạn             0.002306\n",
       " Tỉnh Hà Giang            0.001508\n",
       " Tỉnh Lai Châu            0.001330\n",
       " Tỉnh Vĩnh phúc           0.001153\n",
       " Tỉnh Kon Tum             0.001064\n",
       " Name: province, Length: 65, dtype: float64)"
      ]
     },
     "execution_count": 9,
     "metadata": {},
     "output_type": "execute_result"
    }
   ],
   "source": [
    "unique_values(test,'province')"
   ]
  },
  {
   "cell_type": "markdown",
   "metadata": {},
   "source": [
    "### 4. Compare Train and Test"
   ]
  },
  {
   "cell_type": "markdown",
   "metadata": {},
   "source": [
    "Compare Unique values only in Train"
   ]
  },
  {
   "cell_type": "code",
   "execution_count": 13,
   "metadata": {},
   "outputs": [
    {
     "data": {
      "text/plain": [
       "(set(), 0)"
      ]
     },
     "execution_count": 13,
     "metadata": {},
     "output_type": "execute_result"
    }
   ],
   "source": [
    "values_only_in_set(train, test, 'province')"
   ]
  },
  {
   "cell_type": "markdown",
   "metadata": {},
   "source": [
    "Compare Unique values only in Test"
   ]
  },
  {
   "cell_type": "code",
   "execution_count": 14,
   "metadata": {},
   "outputs": [
    {
     "data": {
      "text/plain": [
       "(set(), 0)"
      ]
     },
     "execution_count": 14,
     "metadata": {},
     "output_type": "execute_result"
    }
   ],
   "source": [
    "values_only_in_set(test, train, 'province')"
   ]
  }
 ],
 "metadata": {
  "kernelspec": {
   "display_name": "Python 3",
   "language": "python",
   "name": "python3"
  },
  "language_info": {
   "codemirror_mode": {
    "name": "ipython",
    "version": 3
   },
   "file_extension": ".py",
   "mimetype": "text/x-python",
   "name": "python",
   "nbconvert_exporter": "python",
   "pygments_lexer": "ipython3",
   "version": "3.7.7"
  }
 },
 "nbformat": 4,
 "nbformat_minor": 4
}
