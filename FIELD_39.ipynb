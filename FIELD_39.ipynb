{
 "cells": [
  {
   "cell_type": "code",
   "execution_count": 1,
   "metadata": {},
   "outputs": [],
   "source": [
    "import pandas as pd\n",
    "from utils import check_nas, unique_values, values_only_in_set"
   ]
  },
  {
   "cell_type": "markdown",
   "metadata": {},
   "source": [
    "### 1. Load dataset"
   ]
  },
  {
   "cell_type": "code",
   "execution_count": 2,
   "metadata": {},
   "outputs": [],
   "source": [
    "train = pd.read_csv('data/train.csv', index_col=0, low_memory=False)\n",
    "test = pd.read_csv('data/test.csv', index_col=0, low_memory=False)"
   ]
  },
  {
   "cell_type": "markdown",
   "metadata": {},
   "source": [
    "### 2. Check for NAs"
   ]
  },
  {
   "cell_type": "markdown",
   "metadata": {},
   "source": [
    "Check no. missing values for Train"
   ]
  },
  {
   "cell_type": "code",
   "execution_count": 3,
   "metadata": {},
   "outputs": [
    {
     "data": {
      "text/plain": [
       "(9678, 0.3226)"
      ]
     },
     "execution_count": 3,
     "metadata": {},
     "output_type": "execute_result"
    }
   ],
   "source": [
    "check_nas(train,'FIELD_39')"
   ]
  },
  {
   "cell_type": "markdown",
   "metadata": {},
   "source": [
    "Check no. missing value for Test"
   ]
  },
  {
   "cell_type": "code",
   "execution_count": 4,
   "metadata": {},
   "outputs": [
    {
     "data": {
      "text/plain": [
       "(6504, 0.2168)"
      ]
     },
     "execution_count": 4,
     "metadata": {},
     "output_type": "execute_result"
    }
   ],
   "source": [
    "check_nas(test,'FIELD_39')"
   ]
  },
  {
   "cell_type": "markdown",
   "metadata": {},
   "source": [
    "### 3. Check for Unique Values"
   ]
  },
  {
   "cell_type": "markdown",
   "metadata": {},
   "source": [
    "#### Similar Unique values in Train & Test"
   ]
  },
  {
   "cell_type": "code",
   "execution_count": 5,
   "metadata": {},
   "outputs": [
    {
     "data": {
      "text/plain": [
       "{'1',\n",
       " 'AU',\n",
       " 'CN',\n",
       " 'CZ',\n",
       " 'DE',\n",
       " 'DK',\n",
       " 'DL',\n",
       " 'DM',\n",
       " 'DT',\n",
       " 'ES',\n",
       " 'FR',\n",
       " 'HK',\n",
       " 'HQ',\n",
       " 'IL',\n",
       " 'IN',\n",
       " 'JP',\n",
       " 'KP',\n",
       " 'KR',\n",
       " 'MY',\n",
       " 'NL',\n",
       " 'NN',\n",
       " 'NU',\n",
       " 'None',\n",
       " 'PH',\n",
       " 'SG',\n",
       " 'TH',\n",
       " 'TQ',\n",
       " 'TW',\n",
       " 'UK',\n",
       " 'US',\n",
       " 'VN',\n",
       " 'VU',\n",
       " nan}"
      ]
     },
     "execution_count": 5,
     "metadata": {},
     "output_type": "execute_result"
    }
   ],
   "source": [
    "set(train.FIELD_39.unique()).intersection(set(test.FIELD_39.unique()))"
   ]
  },
  {
   "cell_type": "markdown",
   "metadata": {},
   "source": [
    "#### Unique values in Train"
   ]
  },
  {
   "cell_type": "code",
   "execution_count": 6,
   "metadata": {},
   "outputs": [
    {
     "data": {
      "text/plain": [
       "(VN      10569\n",
       " None     8997\n",
       " TW        158\n",
       " KR         97\n",
       " JP         95\n",
       " CN         85\n",
       " TQ         46\n",
       " CZ         37\n",
       " 1          28\n",
       " HQ         27\n",
       " UK         23\n",
       " DL         23\n",
       " HK         20\n",
       " SG         17\n",
       " KP         14\n",
       " DE         12\n",
       " US         10\n",
       " TH          9\n",
       " MY          6\n",
       " NU          5\n",
       " IN          4\n",
       " NL          4\n",
       " FR          4\n",
       " NN          4\n",
       " DT          2\n",
       " N           2\n",
       " TS          2\n",
       " AD          2\n",
       " GB          2\n",
       " BE          2\n",
       " DK          2\n",
       " PH          1\n",
       " TL          1\n",
       " SE          1\n",
       " SC          1\n",
       " TK          1\n",
       " AU          1\n",
       " AE          1\n",
       " DM          1\n",
       " IL          1\n",
       " VU          1\n",
       " TR          1\n",
       " IT          1\n",
       " CA          1\n",
       " ES          1\n",
       " Name: FIELD_39, dtype: int64, VN      0.520077\n",
       " None    0.442722\n",
       " TW      0.007775\n",
       " KR      0.004773\n",
       " JP      0.004675\n",
       " CN      0.004183\n",
       " TQ      0.002264\n",
       " CZ      0.001821\n",
       " 1       0.001378\n",
       " HQ      0.001329\n",
       " UK      0.001132\n",
       " DL      0.001132\n",
       " HK      0.000984\n",
       " SG      0.000837\n",
       " KP      0.000689\n",
       " DE      0.000590\n",
       " US      0.000492\n",
       " TH      0.000443\n",
       " MY      0.000295\n",
       " NU      0.000246\n",
       " IN      0.000197\n",
       " NL      0.000197\n",
       " FR      0.000197\n",
       " NN      0.000197\n",
       " DT      0.000098\n",
       " N       0.000098\n",
       " TS      0.000098\n",
       " AD      0.000098\n",
       " GB      0.000098\n",
       " BE      0.000098\n",
       " DK      0.000098\n",
       " PH      0.000049\n",
       " TL      0.000049\n",
       " SE      0.000049\n",
       " SC      0.000049\n",
       " TK      0.000049\n",
       " AU      0.000049\n",
       " AE      0.000049\n",
       " DM      0.000049\n",
       " IL      0.000049\n",
       " VU      0.000049\n",
       " TR      0.000049\n",
       " IT      0.000049\n",
       " CA      0.000049\n",
       " ES      0.000049\n",
       " Name: FIELD_39, dtype: float64)"
      ]
     },
     "execution_count": 6,
     "metadata": {},
     "output_type": "execute_result"
    }
   ],
   "source": [
    "unique_values(train,'FIELD_39')"
   ]
  },
  {
   "cell_type": "markdown",
   "metadata": {},
   "source": [
    "#### Unique values in Test"
   ]
  },
  {
   "cell_type": "code",
   "execution_count": 7,
   "metadata": {},
   "outputs": [
    {
     "data": {
      "text/plain": [
       "(VN      7016\n",
       " None    5972\n",
       " TW        92\n",
       " KR        82\n",
       " JP        63\n",
       " CN        48\n",
       " CZ        38\n",
       " TQ        30\n",
       " DL        19\n",
       " HQ        17\n",
       " 1         15\n",
       " HK        11\n",
       " SG        10\n",
       " US         9\n",
       " DE         9\n",
       " UK         8\n",
       " DT         7\n",
       " KP         5\n",
       " TH         5\n",
       " PH         5\n",
       " AU         5\n",
       " FR         4\n",
       " ID         3\n",
       " CH         3\n",
       " MY         3\n",
       " NL         3\n",
       " IN         2\n",
       " NN         2\n",
       " AT         1\n",
       " DK         1\n",
       " VU         1\n",
       " AN         1\n",
       " WS         1\n",
       " DM         1\n",
       " IL         1\n",
       " NU         1\n",
       " AO         1\n",
       " ES         1\n",
       " Name: FIELD_39, dtype: int64, VN      0.519858\n",
       " None    0.442501\n",
       " TW      0.006817\n",
       " KR      0.006076\n",
       " JP      0.004668\n",
       " CN      0.003557\n",
       " CZ      0.002816\n",
       " TQ      0.002223\n",
       " DL      0.001408\n",
       " HQ      0.001260\n",
       " 1       0.001111\n",
       " HK      0.000815\n",
       " SG      0.000741\n",
       " US      0.000667\n",
       " DE      0.000667\n",
       " UK      0.000593\n",
       " DT      0.000519\n",
       " KP      0.000370\n",
       " TH      0.000370\n",
       " PH      0.000370\n",
       " AU      0.000370\n",
       " FR      0.000296\n",
       " ID      0.000222\n",
       " CH      0.000222\n",
       " MY      0.000222\n",
       " NL      0.000222\n",
       " IN      0.000148\n",
       " NN      0.000148\n",
       " AT      0.000074\n",
       " DK      0.000074\n",
       " VU      0.000074\n",
       " AN      0.000074\n",
       " WS      0.000074\n",
       " DM      0.000074\n",
       " IL      0.000074\n",
       " NU      0.000074\n",
       " AO      0.000074\n",
       " ES      0.000074\n",
       " Name: FIELD_39, dtype: float64)"
      ]
     },
     "execution_count": 7,
     "metadata": {},
     "output_type": "execute_result"
    }
   ],
   "source": [
    "unique_values(test,'FIELD_39')"
   ]
  },
  {
   "cell_type": "markdown",
   "metadata": {},
   "source": [
    "### 4. Compare Train and Test"
   ]
  },
  {
   "cell_type": "markdown",
   "metadata": {},
   "source": [
    "Compare Unique values only in Train"
   ]
  },
  {
   "cell_type": "code",
   "execution_count": 8,
   "metadata": {},
   "outputs": [
    {
     "data": {
      "text/plain": [
       "({'AD', 'AE', 'BE', 'CA', 'GB', 'IT', 'N', 'SC', 'SE', 'TK', 'TL', 'TR', 'TS'},\n",
       " 13)"
      ]
     },
     "execution_count": 8,
     "metadata": {},
     "output_type": "execute_result"
    }
   ],
   "source": [
    "values_only_in_set(train, test, 'FIELD_39')"
   ]
  },
  {
   "cell_type": "markdown",
   "metadata": {},
   "source": [
    "Compare Unique values only in Test"
   ]
  },
  {
   "cell_type": "code",
   "execution_count": 9,
   "metadata": {},
   "outputs": [
    {
     "data": {
      "text/plain": [
       "({'AN', 'AO', 'AT', 'CH', 'ID', 'WS'}, 6)"
      ]
     },
     "execution_count": 9,
     "metadata": {},
     "output_type": "execute_result"
    }
   ],
   "source": [
    "values_only_in_set(test, train, 'FIELD_39')"
   ]
  },
  {
   "cell_type": "code",
   "execution_count": null,
   "metadata": {},
   "outputs": [],
   "source": []
  }
 ],
 "metadata": {
  "kernelspec": {
   "display_name": "Python 3",
   "language": "python",
   "name": "python3"
  },
  "language_info": {
   "codemirror_mode": {
    "name": "ipython",
    "version": 3
   },
   "file_extension": ".py",
   "mimetype": "text/x-python",
   "name": "python",
   "nbconvert_exporter": "python",
   "pygments_lexer": "ipython3",
   "version": "3.7.7"
  }
 },
 "nbformat": 4,
 "nbformat_minor": 4
}
