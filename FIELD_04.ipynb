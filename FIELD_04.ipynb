{
 "cells": [
  {
   "cell_type": "code",
   "execution_count": 11,
   "metadata": {},
   "outputs": [],
   "source": [
    "import pandas as pd\n",
    "from utils import check_nas, unique_values, values_only_in_set"
   ]
  },
  {
   "cell_type": "markdown",
   "metadata": {},
   "source": [
    "### 1. Load dataset"
   ]
  },
  {
   "cell_type": "code",
   "execution_count": 12,
   "metadata": {},
   "outputs": [],
   "source": [
    "train = pd.read_csv('data/train.csv', index_col=0, low_memory=False)\n",
    "test = pd.read_csv('data/test.csv', index_col=0, low_memory=False)"
   ]
  },
  {
   "cell_type": "markdown",
   "metadata": {},
   "source": [
    "### 2. Check for NAs"
   ]
  },
  {
   "cell_type": "markdown",
   "metadata": {},
   "source": [
    "Check no. missing values for Train"
   ]
  },
  {
   "cell_type": "code",
   "execution_count": 13,
   "metadata": {},
   "outputs": [
    {
     "data": {
      "text/plain": [
       "(463, 0.015433333333333334)"
      ]
     },
     "execution_count": 13,
     "metadata": {},
     "output_type": "execute_result"
    }
   ],
   "source": [
    "check_nas(train,'FIELD_4')"
   ]
  },
  {
   "cell_type": "markdown",
   "metadata": {},
   "source": [
    "Check no. missing value for Test"
   ]
  },
  {
   "cell_type": "code",
   "execution_count": 5,
   "metadata": {},
   "outputs": [
    {
     "data": {
      "text/plain": [
       "(325, 0.010833333333333334)"
      ]
     },
     "execution_count": 5,
     "metadata": {},
     "output_type": "execute_result"
    }
   ],
   "source": [
    "check_nas(test,'FIELD_4')"
   ]
  },
  {
   "cell_type": "markdown",
   "metadata": {},
   "source": [
    "### 3. Check for Unique Values"
   ]
  },
  {
   "cell_type": "markdown",
   "metadata": {},
   "source": [
    "#### Similar Unique values in Train & Test"
   ]
  },
  {
   "cell_type": "code",
   "execution_count": 6,
   "metadata": {},
   "outputs": [
    {
     "data": {
      "text/plain": [
       "{0.0, 1.0, 2.0, 3.0, 4.0, 5.0, 6.0, 7.0, 8.0}"
      ]
     },
     "execution_count": 6,
     "metadata": {},
     "output_type": "execute_result"
    }
   ],
   "source": [
    "set(train.FIELD_4.unique()).intersection(set(test.FIELD_4.unique()))"
   ]
  },
  {
   "cell_type": "markdown",
   "metadata": {},
   "source": [
    "#### Unique values in Train"
   ]
  },
  {
   "cell_type": "code",
   "execution_count": 7,
   "metadata": {},
   "outputs": [
    {
     "data": {
      "text/plain": [
       "(0.0     19746\n",
       " 1.0      4802\n",
       " 2.0      3507\n",
       " 3.0      1020\n",
       " 4.0       305\n",
       " 5.0       113\n",
       " 6.0        34\n",
       " 7.0         5\n",
       " 8.0         4\n",
       " 12.0        1\n",
       " Name: FIELD_4, dtype: int64, 0.0     0.668517\n",
       " 1.0     0.162576\n",
       " 2.0     0.118732\n",
       " 3.0     0.034533\n",
       " 4.0     0.010326\n",
       " 5.0     0.003826\n",
       " 6.0     0.001151\n",
       " 7.0     0.000169\n",
       " 8.0     0.000135\n",
       " 12.0    0.000034\n",
       " Name: FIELD_4, dtype: float64)"
      ]
     },
     "execution_count": 7,
     "metadata": {},
     "output_type": "execute_result"
    }
   ],
   "source": [
    "unique_values(train,'FIELD_4')"
   ]
  },
  {
   "cell_type": "markdown",
   "metadata": {},
   "source": [
    "#### Unique values in Test"
   ]
  },
  {
   "cell_type": "code",
   "execution_count": 8,
   "metadata": {},
   "outputs": [
    {
     "data": {
      "text/plain": [
       "(0.0     13313\n",
       " 1.0      3132\n",
       " 2.0      2283\n",
       " 3.0       657\n",
       " 4.0       210\n",
       " 5.0        57\n",
       " 6.0        12\n",
       " 7.0         5\n",
       " 10.0        2\n",
       " 8.0         2\n",
       " 11.0        1\n",
       " 9.0         1\n",
       " Name: FIELD_4, dtype: int64, 0.0     0.676645\n",
       " 1.0     0.159187\n",
       " 2.0     0.116036\n",
       " 3.0     0.033393\n",
       " 4.0     0.010673\n",
       " 5.0     0.002897\n",
       " 6.0     0.000610\n",
       " 7.0     0.000254\n",
       " 10.0    0.000102\n",
       " 8.0     0.000102\n",
       " 11.0    0.000051\n",
       " 9.0     0.000051\n",
       " Name: FIELD_4, dtype: float64)"
      ]
     },
     "execution_count": 8,
     "metadata": {},
     "output_type": "execute_result"
    }
   ],
   "source": [
    "unique_values(test,'FIELD_4')"
   ]
  },
  {
   "cell_type": "markdown",
   "metadata": {},
   "source": [
    "### 4. Compare Train and Test"
   ]
  },
  {
   "cell_type": "markdown",
   "metadata": {},
   "source": [
    "Compare Unique values only in Train"
   ]
  },
  {
   "cell_type": "code",
   "execution_count": 9,
   "metadata": {},
   "outputs": [
    {
     "data": {
      "text/plain": [
       "({nan, 12.0}, 2)"
      ]
     },
     "execution_count": 9,
     "metadata": {},
     "output_type": "execute_result"
    }
   ],
   "source": [
    "values_only_in_set(train, test, 'FIELD_4')"
   ]
  },
  {
   "cell_type": "markdown",
   "metadata": {},
   "source": [
    "Compare Unique values only in Test"
   ]
  },
  {
   "cell_type": "code",
   "execution_count": 10,
   "metadata": {},
   "outputs": [
    {
     "data": {
      "text/plain": [
       "({nan, 9.0, 10.0, 11.0}, 4)"
      ]
     },
     "execution_count": 10,
     "metadata": {},
     "output_type": "execute_result"
    }
   ],
   "source": [
    "values_only_in_set(test, train, 'FIELD_4')"
   ]
  },
  {
   "cell_type": "code",
   "execution_count": null,
   "metadata": {},
   "outputs": [],
   "source": []
  }
 ],
 "metadata": {
  "kernelspec": {
   "display_name": "Python 3",
   "language": "python",
   "name": "python3"
  },
  "language_info": {
   "codemirror_mode": {
    "name": "ipython",
    "version": 3
   },
   "file_extension": ".py",
   "mimetype": "text/x-python",
   "name": "python",
   "nbconvert_exporter": "python",
   "pygments_lexer": "ipython3",
   "version": "3.7.7"
  }
 },
 "nbformat": 4,
 "nbformat_minor": 4
}
